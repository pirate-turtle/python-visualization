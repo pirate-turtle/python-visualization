{
 "cells": [
  {
   "cell_type": "code",
   "execution_count": null,
   "metadata": {},
   "outputs": [],
   "source": [
    "import pandas as pd \n",
    "pd.plotting.register_matplotlib_converters() \n",
    "import matplotlib.pyplot as plt \n",
    "%matplotlib inline \n",
    "import seaborn as sns \n",
    "print(\"Setup Complete\") "
   ]
  },
  {
   "cell_type": "code",
   "execution_count": null,
   "metadata": {},
   "outputs": [],
   "source": [
    "# 읽어드릴 파일 경로\n",
    "flight_filepath = \"./dataset/flight_delays.csv\" \n",
    "\n",
    "# 변수 flight_data에 파일을 읽어드림 \n",
    "flight_data = pd.read_csv(flight_filepath, index_col=\"Month\")\n",
    "\n",
    "# 데이터 출력 \n",
    "flight_data"
   ]
  },
  {
   "cell_type": "code",
   "execution_count": null,
   "metadata": {},
   "outputs": [],
   "source": [
    "# 도표의 너비(10)와 높이(6) 설정\n",
    "plt.figure(figsize=(10,6)) \n",
    "\n",
    "# 도표의 제목 설정\n",
    "plt.title(\"Average Arrival Delay for Spirit Airlines Flights, by Month\") \n",
    "\n",
    "# 막대그래프 그리기\n",
    "sns.barplot(x=flight_data.index, y=flight_data['NK']) \n",
    "\n",
    "# 세로축 레이블 생성\n",
    "plt.ylabel(\"Arrival delay (in minutes)\") "
   ]
  },
  {
   "cell_type": "markdown",
   "metadata": {},
   "source": [
    "# 실습과제\n",
    "## American Airlines (항공사코드: AA)의 월별 평균 비행 지연 시간"
   ]
  },
  {
   "cell_type": "code",
   "execution_count": null,
   "metadata": {},
   "outputs": [],
   "source": []
  }
 ],
 "metadata": {
  "kernelspec": {
   "display_name": "Python 3",
   "language": "python",
   "name": "python3"
  },
  "language_info": {
   "codemirror_mode": {
    "name": "ipython",
    "version": 3
   },
   "file_extension": ".py",
   "mimetype": "text/x-python",
   "name": "python",
   "nbconvert_exporter": "python",
   "pygments_lexer": "ipython3",
   "version": "3.7.6"
  }
 },
 "nbformat": 4,
 "nbformat_minor": 4
}
